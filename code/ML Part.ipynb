{
 "cells": [
  {
   "attachments": {},
   "cell_type": "markdown",
   "id": "a81043f4",
   "metadata": {},
   "source": [
    "# Importing dependencies"
   ]
  },
  {
   "cell_type": "code",
   "execution_count": 1,
   "id": "f78264a2",
   "metadata": {},
   "outputs": [],
   "source": [
    "import pandas as pd\n",
    "import numpy as np\n",
    "import seaborn as sns\n",
    "import matplotlib.pyplot as plt\n",
    "%matplotlib inline\n",
    "from sklearn.model_selection import train_test_split, GridSearchCV # data split\n",
    "from sklearn.svm import SVC\n",
    "from sklearn.utils import shuffle\n",
    "from sklearn.ensemble import RandomForestClassifier\n",
    "from sklearn.ensemble import AdaBoostClassifier\n",
    "from sklearn.metrics import accuracy_score\n",
    "import warnings\n",
    "warnings.filterwarnings(\"ignore\")"
   ]
  },
  {
   "cell_type": "code",
   "execution_count": 2,
   "id": "4dc925ff",
   "metadata": {
    "scrolled": true
   },
   "outputs": [
    {
     "data": {
      "text/html": [
       "<div>\n",
       "<style scoped>\n",
       "    .dataframe tbody tr th:only-of-type {\n",
       "        vertical-align: middle;\n",
       "    }\n",
       "\n",
       "    .dataframe tbody tr th {\n",
       "        vertical-align: top;\n",
       "    }\n",
       "\n",
       "    .dataframe thead th {\n",
       "        text-align: right;\n",
       "    }\n",
       "</style>\n",
       "<table border=\"1\" class=\"dataframe\">\n",
       "  <thead>\n",
       "    <tr style=\"text-align: right;\">\n",
       "      <th></th>\n",
       "      <th>Subject ID</th>\n",
       "      <th>MRI ID</th>\n",
       "      <th>Group</th>\n",
       "      <th>Visit</th>\n",
       "      <th>MR Delay</th>\n",
       "      <th>M/F</th>\n",
       "      <th>Hand</th>\n",
       "      <th>Age</th>\n",
       "      <th>EDUC</th>\n",
       "      <th>SES</th>\n",
       "      <th>MMSE</th>\n",
       "      <th>CDR</th>\n",
       "      <th>eTIV</th>\n",
       "      <th>nWBV</th>\n",
       "      <th>ASF</th>\n",
       "    </tr>\n",
       "  </thead>\n",
       "  <tbody>\n",
       "    <tr>\n",
       "      <th>0</th>\n",
       "      <td>OAS2_0001</td>\n",
       "      <td>OAS2_0001_MR1</td>\n",
       "      <td>Nondemented</td>\n",
       "      <td>1</td>\n",
       "      <td>0</td>\n",
       "      <td>M</td>\n",
       "      <td>R</td>\n",
       "      <td>87</td>\n",
       "      <td>14</td>\n",
       "      <td>2.0</td>\n",
       "      <td>27.0</td>\n",
       "      <td>0.0</td>\n",
       "      <td>1987</td>\n",
       "      <td>0.696</td>\n",
       "      <td>0.883</td>\n",
       "    </tr>\n",
       "    <tr>\n",
       "      <th>1</th>\n",
       "      <td>OAS2_0001</td>\n",
       "      <td>OAS2_0001_MR2</td>\n",
       "      <td>Nondemented</td>\n",
       "      <td>2</td>\n",
       "      <td>457</td>\n",
       "      <td>M</td>\n",
       "      <td>R</td>\n",
       "      <td>88</td>\n",
       "      <td>14</td>\n",
       "      <td>2.0</td>\n",
       "      <td>30.0</td>\n",
       "      <td>0.0</td>\n",
       "      <td>2004</td>\n",
       "      <td>0.681</td>\n",
       "      <td>0.876</td>\n",
       "    </tr>\n",
       "    <tr>\n",
       "      <th>2</th>\n",
       "      <td>OAS2_0002</td>\n",
       "      <td>OAS2_0002_MR1</td>\n",
       "      <td>Demented</td>\n",
       "      <td>1</td>\n",
       "      <td>0</td>\n",
       "      <td>M</td>\n",
       "      <td>R</td>\n",
       "      <td>75</td>\n",
       "      <td>12</td>\n",
       "      <td>NaN</td>\n",
       "      <td>23.0</td>\n",
       "      <td>0.5</td>\n",
       "      <td>1678</td>\n",
       "      <td>0.736</td>\n",
       "      <td>1.046</td>\n",
       "    </tr>\n",
       "    <tr>\n",
       "      <th>3</th>\n",
       "      <td>OAS2_0002</td>\n",
       "      <td>OAS2_0002_MR2</td>\n",
       "      <td>Demented</td>\n",
       "      <td>2</td>\n",
       "      <td>560</td>\n",
       "      <td>M</td>\n",
       "      <td>R</td>\n",
       "      <td>76</td>\n",
       "      <td>12</td>\n",
       "      <td>NaN</td>\n",
       "      <td>28.0</td>\n",
       "      <td>0.5</td>\n",
       "      <td>1738</td>\n",
       "      <td>0.713</td>\n",
       "      <td>1.010</td>\n",
       "    </tr>\n",
       "    <tr>\n",
       "      <th>4</th>\n",
       "      <td>OAS2_0002</td>\n",
       "      <td>OAS2_0002_MR3</td>\n",
       "      <td>Demented</td>\n",
       "      <td>3</td>\n",
       "      <td>1895</td>\n",
       "      <td>M</td>\n",
       "      <td>R</td>\n",
       "      <td>80</td>\n",
       "      <td>12</td>\n",
       "      <td>NaN</td>\n",
       "      <td>22.0</td>\n",
       "      <td>0.5</td>\n",
       "      <td>1698</td>\n",
       "      <td>0.701</td>\n",
       "      <td>1.034</td>\n",
       "    </tr>\n",
       "    <tr>\n",
       "      <th>5</th>\n",
       "      <td>OAS2_0004</td>\n",
       "      <td>OAS2_0004_MR1</td>\n",
       "      <td>Nondemented</td>\n",
       "      <td>1</td>\n",
       "      <td>0</td>\n",
       "      <td>F</td>\n",
       "      <td>R</td>\n",
       "      <td>88</td>\n",
       "      <td>18</td>\n",
       "      <td>3.0</td>\n",
       "      <td>28.0</td>\n",
       "      <td>0.0</td>\n",
       "      <td>1215</td>\n",
       "      <td>0.710</td>\n",
       "      <td>1.444</td>\n",
       "    </tr>\n",
       "    <tr>\n",
       "      <th>6</th>\n",
       "      <td>OAS2_0004</td>\n",
       "      <td>OAS2_0004_MR2</td>\n",
       "      <td>Nondemented</td>\n",
       "      <td>2</td>\n",
       "      <td>538</td>\n",
       "      <td>F</td>\n",
       "      <td>R</td>\n",
       "      <td>90</td>\n",
       "      <td>18</td>\n",
       "      <td>3.0</td>\n",
       "      <td>27.0</td>\n",
       "      <td>0.0</td>\n",
       "      <td>1200</td>\n",
       "      <td>0.718</td>\n",
       "      <td>1.462</td>\n",
       "    </tr>\n",
       "    <tr>\n",
       "      <th>7</th>\n",
       "      <td>OAS2_0005</td>\n",
       "      <td>OAS2_0005_MR1</td>\n",
       "      <td>Nondemented</td>\n",
       "      <td>1</td>\n",
       "      <td>0</td>\n",
       "      <td>M</td>\n",
       "      <td>R</td>\n",
       "      <td>80</td>\n",
       "      <td>12</td>\n",
       "      <td>4.0</td>\n",
       "      <td>28.0</td>\n",
       "      <td>0.0</td>\n",
       "      <td>1689</td>\n",
       "      <td>0.712</td>\n",
       "      <td>1.039</td>\n",
       "    </tr>\n",
       "    <tr>\n",
       "      <th>8</th>\n",
       "      <td>OAS2_0005</td>\n",
       "      <td>OAS2_0005_MR2</td>\n",
       "      <td>Nondemented</td>\n",
       "      <td>2</td>\n",
       "      <td>1010</td>\n",
       "      <td>M</td>\n",
       "      <td>R</td>\n",
       "      <td>83</td>\n",
       "      <td>12</td>\n",
       "      <td>4.0</td>\n",
       "      <td>29.0</td>\n",
       "      <td>0.5</td>\n",
       "      <td>1701</td>\n",
       "      <td>0.711</td>\n",
       "      <td>1.032</td>\n",
       "    </tr>\n",
       "    <tr>\n",
       "      <th>9</th>\n",
       "      <td>OAS2_0005</td>\n",
       "      <td>OAS2_0005_MR3</td>\n",
       "      <td>Nondemented</td>\n",
       "      <td>3</td>\n",
       "      <td>1603</td>\n",
       "      <td>M</td>\n",
       "      <td>R</td>\n",
       "      <td>85</td>\n",
       "      <td>12</td>\n",
       "      <td>4.0</td>\n",
       "      <td>30.0</td>\n",
       "      <td>0.0</td>\n",
       "      <td>1699</td>\n",
       "      <td>0.705</td>\n",
       "      <td>1.033</td>\n",
       "    </tr>\n",
       "  </tbody>\n",
       "</table>\n",
       "</div>"
      ],
      "text/plain": [
       "  Subject ID         MRI ID        Group  Visit  MR Delay M/F Hand  Age  EDUC  \\\n",
       "0  OAS2_0001  OAS2_0001_MR1  Nondemented      1         0   M    R   87    14   \n",
       "1  OAS2_0001  OAS2_0001_MR2  Nondemented      2       457   M    R   88    14   \n",
       "2  OAS2_0002  OAS2_0002_MR1     Demented      1         0   M    R   75    12   \n",
       "3  OAS2_0002  OAS2_0002_MR2     Demented      2       560   M    R   76    12   \n",
       "4  OAS2_0002  OAS2_0002_MR3     Demented      3      1895   M    R   80    12   \n",
       "5  OAS2_0004  OAS2_0004_MR1  Nondemented      1         0   F    R   88    18   \n",
       "6  OAS2_0004  OAS2_0004_MR2  Nondemented      2       538   F    R   90    18   \n",
       "7  OAS2_0005  OAS2_0005_MR1  Nondemented      1         0   M    R   80    12   \n",
       "8  OAS2_0005  OAS2_0005_MR2  Nondemented      2      1010   M    R   83    12   \n",
       "9  OAS2_0005  OAS2_0005_MR3  Nondemented      3      1603   M    R   85    12   \n",
       "\n",
       "   SES  MMSE  CDR  eTIV   nWBV    ASF  \n",
       "0  2.0  27.0  0.0  1987  0.696  0.883  \n",
       "1  2.0  30.0  0.0  2004  0.681  0.876  \n",
       "2  NaN  23.0  0.5  1678  0.736  1.046  \n",
       "3  NaN  28.0  0.5  1738  0.713  1.010  \n",
       "4  NaN  22.0  0.5  1698  0.701  1.034  \n",
       "5  3.0  28.0  0.0  1215  0.710  1.444  \n",
       "6  3.0  27.0  0.0  1200  0.718  1.462  \n",
       "7  4.0  28.0  0.0  1689  0.712  1.039  \n",
       "8  4.0  29.0  0.5  1701  0.711  1.032  \n",
       "9  4.0  30.0  0.0  1699  0.705  1.033  "
      ]
     },
     "execution_count": 2,
     "metadata": {},
     "output_type": "execute_result"
    }
   ],
   "source": [
    "df = pd.read_csv('oasis_longitudinal.csv')\n",
    "df.head(10)"
   ]
  },
  {
   "cell_type": "code",
   "execution_count": 3,
   "id": "541019a3",
   "metadata": {},
   "outputs": [
    {
     "data": {
      "text/plain": [
       "(373, 15)"
      ]
     },
     "execution_count": 3,
     "metadata": {},
     "output_type": "execute_result"
    }
   ],
   "source": [
    "df.shape"
   ]
  },
  {
   "attachments": {},
   "cell_type": "markdown",
   "id": "39c4c1b9",
   "metadata": {},
   "source": [
    "# Change data type"
   ]
  },
  {
   "cell_type": "code",
   "execution_count": 4,
   "id": "7762cdf3",
   "metadata": {},
   "outputs": [],
   "source": [
    "df['M/F']= df['M/F'].replace('F', 0)\n",
    "df['M/F']=df['M/F'].replace('M', 1)"
   ]
  },
  {
   "cell_type": "code",
   "execution_count": 5,
   "id": "b4f3e9b8",
   "metadata": {},
   "outputs": [
    {
     "data": {
      "text/html": [
       "<div>\n",
       "<style scoped>\n",
       "    .dataframe tbody tr th:only-of-type {\n",
       "        vertical-align: middle;\n",
       "    }\n",
       "\n",
       "    .dataframe tbody tr th {\n",
       "        vertical-align: top;\n",
       "    }\n",
       "\n",
       "    .dataframe thead th {\n",
       "        text-align: right;\n",
       "    }\n",
       "</style>\n",
       "<table border=\"1\" class=\"dataframe\">\n",
       "  <thead>\n",
       "    <tr style=\"text-align: right;\">\n",
       "      <th></th>\n",
       "      <th>Subject ID</th>\n",
       "      <th>MRI ID</th>\n",
       "      <th>Group</th>\n",
       "      <th>Visit</th>\n",
       "      <th>MR Delay</th>\n",
       "      <th>M/F</th>\n",
       "      <th>Hand</th>\n",
       "      <th>Age</th>\n",
       "      <th>EDUC</th>\n",
       "      <th>SES</th>\n",
       "      <th>MMSE</th>\n",
       "      <th>CDR</th>\n",
       "      <th>eTIV</th>\n",
       "      <th>nWBV</th>\n",
       "      <th>ASF</th>\n",
       "    </tr>\n",
       "  </thead>\n",
       "  <tbody>\n",
       "    <tr>\n",
       "      <th>0</th>\n",
       "      <td>OAS2_0001</td>\n",
       "      <td>OAS2_0001_MR1</td>\n",
       "      <td>0</td>\n",
       "      <td>1</td>\n",
       "      <td>0</td>\n",
       "      <td>1</td>\n",
       "      <td>R</td>\n",
       "      <td>87</td>\n",
       "      <td>14</td>\n",
       "      <td>2.0</td>\n",
       "      <td>27.0</td>\n",
       "      <td>0.0</td>\n",
       "      <td>1987</td>\n",
       "      <td>0.696</td>\n",
       "      <td>0.883</td>\n",
       "    </tr>\n",
       "    <tr>\n",
       "      <th>1</th>\n",
       "      <td>OAS2_0001</td>\n",
       "      <td>OAS2_0001_MR2</td>\n",
       "      <td>0</td>\n",
       "      <td>2</td>\n",
       "      <td>457</td>\n",
       "      <td>1</td>\n",
       "      <td>R</td>\n",
       "      <td>88</td>\n",
       "      <td>14</td>\n",
       "      <td>2.0</td>\n",
       "      <td>30.0</td>\n",
       "      <td>0.0</td>\n",
       "      <td>2004</td>\n",
       "      <td>0.681</td>\n",
       "      <td>0.876</td>\n",
       "    </tr>\n",
       "    <tr>\n",
       "      <th>2</th>\n",
       "      <td>OAS2_0002</td>\n",
       "      <td>OAS2_0002_MR1</td>\n",
       "      <td>1</td>\n",
       "      <td>1</td>\n",
       "      <td>0</td>\n",
       "      <td>1</td>\n",
       "      <td>R</td>\n",
       "      <td>75</td>\n",
       "      <td>12</td>\n",
       "      <td>NaN</td>\n",
       "      <td>23.0</td>\n",
       "      <td>0.5</td>\n",
       "      <td>1678</td>\n",
       "      <td>0.736</td>\n",
       "      <td>1.046</td>\n",
       "    </tr>\n",
       "    <tr>\n",
       "      <th>3</th>\n",
       "      <td>OAS2_0002</td>\n",
       "      <td>OAS2_0002_MR2</td>\n",
       "      <td>1</td>\n",
       "      <td>2</td>\n",
       "      <td>560</td>\n",
       "      <td>1</td>\n",
       "      <td>R</td>\n",
       "      <td>76</td>\n",
       "      <td>12</td>\n",
       "      <td>NaN</td>\n",
       "      <td>28.0</td>\n",
       "      <td>0.5</td>\n",
       "      <td>1738</td>\n",
       "      <td>0.713</td>\n",
       "      <td>1.010</td>\n",
       "    </tr>\n",
       "    <tr>\n",
       "      <th>4</th>\n",
       "      <td>OAS2_0002</td>\n",
       "      <td>OAS2_0002_MR3</td>\n",
       "      <td>1</td>\n",
       "      <td>3</td>\n",
       "      <td>1895</td>\n",
       "      <td>1</td>\n",
       "      <td>R</td>\n",
       "      <td>80</td>\n",
       "      <td>12</td>\n",
       "      <td>NaN</td>\n",
       "      <td>22.0</td>\n",
       "      <td>0.5</td>\n",
       "      <td>1698</td>\n",
       "      <td>0.701</td>\n",
       "      <td>1.034</td>\n",
       "    </tr>\n",
       "    <tr>\n",
       "      <th>...</th>\n",
       "      <td>...</td>\n",
       "      <td>...</td>\n",
       "      <td>...</td>\n",
       "      <td>...</td>\n",
       "      <td>...</td>\n",
       "      <td>...</td>\n",
       "      <td>...</td>\n",
       "      <td>...</td>\n",
       "      <td>...</td>\n",
       "      <td>...</td>\n",
       "      <td>...</td>\n",
       "      <td>...</td>\n",
       "      <td>...</td>\n",
       "      <td>...</td>\n",
       "      <td>...</td>\n",
       "    </tr>\n",
       "    <tr>\n",
       "      <th>368</th>\n",
       "      <td>OAS2_0185</td>\n",
       "      <td>OAS2_0185_MR2</td>\n",
       "      <td>1</td>\n",
       "      <td>2</td>\n",
       "      <td>842</td>\n",
       "      <td>1</td>\n",
       "      <td>R</td>\n",
       "      <td>82</td>\n",
       "      <td>16</td>\n",
       "      <td>1.0</td>\n",
       "      <td>28.0</td>\n",
       "      <td>0.5</td>\n",
       "      <td>1693</td>\n",
       "      <td>0.694</td>\n",
       "      <td>1.037</td>\n",
       "    </tr>\n",
       "    <tr>\n",
       "      <th>369</th>\n",
       "      <td>OAS2_0185</td>\n",
       "      <td>OAS2_0185_MR3</td>\n",
       "      <td>1</td>\n",
       "      <td>3</td>\n",
       "      <td>2297</td>\n",
       "      <td>1</td>\n",
       "      <td>R</td>\n",
       "      <td>86</td>\n",
       "      <td>16</td>\n",
       "      <td>1.0</td>\n",
       "      <td>26.0</td>\n",
       "      <td>0.5</td>\n",
       "      <td>1688</td>\n",
       "      <td>0.675</td>\n",
       "      <td>1.040</td>\n",
       "    </tr>\n",
       "    <tr>\n",
       "      <th>370</th>\n",
       "      <td>OAS2_0186</td>\n",
       "      <td>OAS2_0186_MR1</td>\n",
       "      <td>0</td>\n",
       "      <td>1</td>\n",
       "      <td>0</td>\n",
       "      <td>0</td>\n",
       "      <td>R</td>\n",
       "      <td>61</td>\n",
       "      <td>13</td>\n",
       "      <td>2.0</td>\n",
       "      <td>30.0</td>\n",
       "      <td>0.0</td>\n",
       "      <td>1319</td>\n",
       "      <td>0.801</td>\n",
       "      <td>1.331</td>\n",
       "    </tr>\n",
       "    <tr>\n",
       "      <th>371</th>\n",
       "      <td>OAS2_0186</td>\n",
       "      <td>OAS2_0186_MR2</td>\n",
       "      <td>0</td>\n",
       "      <td>2</td>\n",
       "      <td>763</td>\n",
       "      <td>0</td>\n",
       "      <td>R</td>\n",
       "      <td>63</td>\n",
       "      <td>13</td>\n",
       "      <td>2.0</td>\n",
       "      <td>30.0</td>\n",
       "      <td>0.0</td>\n",
       "      <td>1327</td>\n",
       "      <td>0.796</td>\n",
       "      <td>1.323</td>\n",
       "    </tr>\n",
       "    <tr>\n",
       "      <th>372</th>\n",
       "      <td>OAS2_0186</td>\n",
       "      <td>OAS2_0186_MR3</td>\n",
       "      <td>0</td>\n",
       "      <td>3</td>\n",
       "      <td>1608</td>\n",
       "      <td>0</td>\n",
       "      <td>R</td>\n",
       "      <td>65</td>\n",
       "      <td>13</td>\n",
       "      <td>2.0</td>\n",
       "      <td>30.0</td>\n",
       "      <td>0.0</td>\n",
       "      <td>1333</td>\n",
       "      <td>0.801</td>\n",
       "      <td>1.317</td>\n",
       "    </tr>\n",
       "  </tbody>\n",
       "</table>\n",
       "<p>373 rows × 15 columns</p>\n",
       "</div>"
      ],
      "text/plain": [
       "    Subject ID         MRI ID  Group  Visit  MR Delay  M/F Hand  Age  EDUC  \\\n",
       "0    OAS2_0001  OAS2_0001_MR1      0      1         0    1    R   87    14   \n",
       "1    OAS2_0001  OAS2_0001_MR2      0      2       457    1    R   88    14   \n",
       "2    OAS2_0002  OAS2_0002_MR1      1      1         0    1    R   75    12   \n",
       "3    OAS2_0002  OAS2_0002_MR2      1      2       560    1    R   76    12   \n",
       "4    OAS2_0002  OAS2_0002_MR3      1      3      1895    1    R   80    12   \n",
       "..         ...            ...    ...    ...       ...  ...  ...  ...   ...   \n",
       "368  OAS2_0185  OAS2_0185_MR2      1      2       842    1    R   82    16   \n",
       "369  OAS2_0185  OAS2_0185_MR3      1      3      2297    1    R   86    16   \n",
       "370  OAS2_0186  OAS2_0186_MR1      0      1         0    0    R   61    13   \n",
       "371  OAS2_0186  OAS2_0186_MR2      0      2       763    0    R   63    13   \n",
       "372  OAS2_0186  OAS2_0186_MR3      0      3      1608    0    R   65    13   \n",
       "\n",
       "     SES  MMSE  CDR  eTIV   nWBV    ASF  \n",
       "0    2.0  27.0  0.0  1987  0.696  0.883  \n",
       "1    2.0  30.0  0.0  2004  0.681  0.876  \n",
       "2    NaN  23.0  0.5  1678  0.736  1.046  \n",
       "3    NaN  28.0  0.5  1738  0.713  1.010  \n",
       "4    NaN  22.0  0.5  1698  0.701  1.034  \n",
       "..   ...   ...  ...   ...    ...    ...  \n",
       "368  1.0  28.0  0.5  1693  0.694  1.037  \n",
       "369  1.0  26.0  0.5  1688  0.675  1.040  \n",
       "370  2.0  30.0  0.0  1319  0.801  1.331  \n",
       "371  2.0  30.0  0.0  1327  0.796  1.323  \n",
       "372  2.0  30.0  0.0  1333  0.801  1.317  \n",
       "\n",
       "[373 rows x 15 columns]"
      ]
     },
     "execution_count": 5,
     "metadata": {},
     "output_type": "execute_result"
    }
   ],
   "source": [
    "df['Group']= df['Group'].replace('Nondemented', 0)\n",
    "df['Group']=df['Group'].replace('Demented', 1)\n",
    "df['Group']=df['Group'].replace('Converted', 2)\n",
    "df"
   ]
  },
  {
   "cell_type": "code",
   "execution_count": 6,
   "id": "44c31fc0",
   "metadata": {
    "scrolled": true
   },
   "outputs": [
    {
     "name": "stdout",
     "output_type": "stream",
     "text": [
      "<class 'pandas.core.frame.DataFrame'>\n",
      "RangeIndex: 373 entries, 0 to 372\n",
      "Data columns (total 15 columns):\n",
      " #   Column      Non-Null Count  Dtype  \n",
      "---  ------      --------------  -----  \n",
      " 0   Subject ID  373 non-null    object \n",
      " 1   MRI ID      373 non-null    object \n",
      " 2   Group       373 non-null    int64  \n",
      " 3   Visit       373 non-null    int64  \n",
      " 4   MR Delay    373 non-null    int64  \n",
      " 5   M/F         373 non-null    int64  \n",
      " 6   Hand        373 non-null    object \n",
      " 7   Age         373 non-null    int64  \n",
      " 8   EDUC        373 non-null    int64  \n",
      " 9   SES         354 non-null    float64\n",
      " 10  MMSE        371 non-null    float64\n",
      " 11  CDR         373 non-null    float64\n",
      " 12  eTIV        373 non-null    int64  \n",
      " 13  nWBV        373 non-null    float64\n",
      " 14  ASF         373 non-null    float64\n",
      "dtypes: float64(5), int64(7), object(3)\n",
      "memory usage: 43.8+ KB\n"
     ]
    }
   ],
   "source": [
    "df.info()"
   ]
  },
  {
   "cell_type": "code",
   "execution_count": 7,
   "id": "5c6cb569",
   "metadata": {
    "scrolled": true
   },
   "outputs": [
    {
     "data": {
      "text/plain": [
       "Subject ID     0\n",
       "MRI ID         0\n",
       "Group          0\n",
       "Visit          0\n",
       "MR Delay       0\n",
       "M/F            0\n",
       "Hand           0\n",
       "Age            0\n",
       "EDUC           0\n",
       "SES           19\n",
       "MMSE           2\n",
       "CDR            0\n",
       "eTIV           0\n",
       "nWBV           0\n",
       "ASF            0\n",
       "dtype: int64"
      ]
     },
     "execution_count": 7,
     "metadata": {},
     "output_type": "execute_result"
    }
   ],
   "source": [
    "# Check missing values \n",
    "pd.isnull(df).sum() "
   ]
  },
  {
   "cell_type": "markdown",
   "id": "61789804",
   "metadata": {},
   "source": [
    "# Dropped the rows with missing values "
   ]
  },
  {
   "cell_type": "code",
   "execution_count": 8,
   "id": "c640f930",
   "metadata": {},
   "outputs": [
    {
     "data": {
      "text/plain": [
       "Subject ID    0\n",
       "MRI ID        0\n",
       "Group         0\n",
       "Visit         0\n",
       "MR Delay      0\n",
       "M/F           0\n",
       "Hand          0\n",
       "Age           0\n",
       "EDUC          0\n",
       "SES           0\n",
       "MMSE          0\n",
       "CDR           0\n",
       "eTIV          0\n",
       "nWBV          0\n",
       "ASF           0\n",
       "dtype: int64"
      ]
     },
     "execution_count": 8,
     "metadata": {},
     "output_type": "execute_result"
    }
   ],
   "source": [
    "df= df.dropna(axis=0, how='any')\n",
    "pd.isnull(df).sum()"
   ]
  },
  {
   "cell_type": "code",
   "execution_count": 9,
   "id": "625e7d7a",
   "metadata": {},
   "outputs": [
    {
     "data": {
      "text/plain": [
       "0    190\n",
       "1    127\n",
       "2     37\n",
       "Name: Group, dtype: int64"
      ]
     },
     "execution_count": 9,
     "metadata": {},
     "output_type": "execute_result"
    }
   ],
   "source": [
    "df['Group'].value_counts()"
   ]
  },
  {
   "cell_type": "markdown",
   "id": "9bf128e1",
   "metadata": {},
   "source": [
    "# Data Visualization"
   ]
  },
  {
   "cell_type": "code",
   "execution_count": 10,
   "id": "85ecd4f5",
   "metadata": {},
   "outputs": [
    {
     "data": {
      "text/plain": [
       "<AxesSubplot: ylabel='Type'>"
      ]
     },
     "execution_count": 10,
     "metadata": {},
     "output_type": "execute_result"
    },
    {
     "data": {
      "image/png": "[encoded data removed]",
      "text/plain": [
       "<Figure size 432x288 with 1 Axes>"
      ]
     },
     "metadata": {},
     "output_type": "display_data"
    }
   ],
   "source": [
    "df.groupby('Group').size().plot(kind='pie',y = \"Group\",label = \"Type\",autopct='%1.1f%%')"
   ]
  },
  {
   "cell_type": "code",
   "execution_count": 11,
   "id": "a6445deb",
   "metadata": {},
   "outputs": [],
   "source": [
    "dfy= df['Group']\n",
    "list = ['Group','Subject ID','MRI ID', 'eTIV','Visit', 'Hand','SES']\n",
    "dfx= df.drop(list, axis=1) "
   ]
  },
  {
   "attachments": {},
   "cell_type": "markdown",
   "id": "c8894b60",
   "metadata": {},
   "source": [
    "# Splitting data"
   ]
  },
  {
   "cell_type": "code",
   "execution_count": 12,
   "id": "ee9a2c29",
   "metadata": {},
   "outputs": [],
   "source": [
    "y = dfy\n",
    "X = dfx\n",
    "X_train, X_test, y_train, y_test = train_test_split( X, y, test_size=0.2, random_state=42)"
   ]
  },
  {
   "cell_type": "markdown",
   "id": "35ac7c66",
   "metadata": {},
   "source": [
    "# Most important features "
   ]
  },
  {
   "cell_type": "code",
   "execution_count": 13,
   "id": "5ecbd692",
   "metadata": {},
   "outputs": [
    {
     "data": {
      "text/plain": [
       "CDR         0.572645\n",
       "MMSE        0.265528\n",
       "EDUC        0.102413\n",
       "nWBV        0.092981\n",
       "ASF         0.092218\n",
       "M/F         0.077211\n",
       "Age         0.034310\n",
       "MR Delay    0.033321\n",
       "dtype: float64"
      ]
     },
     "execution_count": 13,
     "metadata": {},
     "output_type": "execute_result"
    }
   ],
   "source": [
    "from sklearn.feature_selection import mutual_info_classif\n",
    "mutual_info = mutual_info_classif(X, y)\n",
    "mutual_info = pd.Series(mutual_info)\n",
    "mutual_info.index = X.columns\n",
    "mutual_info.sort_values(ascending=False)"
   ]
  },
  {
   "cell_type": "code",
   "execution_count": 14,
   "id": "7071b9e3",
   "metadata": {},
   "outputs": [
    {
     "data": {
      "text/plain": [
       "<AxesSubplot: >"
      ]
     },
     "execution_count": 14,
     "metadata": {},
     "output_type": "execute_result"
    },
    {
     "data": {
      "image/png": "[encoded data removed]",
      "text/plain": [
       "<Figure size 648x432 with 1 Axes>"
      ]
     },
     "metadata": {
      "needs_background": "light"
     },
     "output_type": "display_data"
    }
   ],
   "source": [
    "mutual_info.sort_values(ascending=False).plot.bar(figsize=(9, 6))"
   ]
  },
  {
   "cell_type": "markdown",
   "id": "a20d57ae",
   "metadata": {},
   "source": [
    "# SVM classifier using SVC class"
   ]
  },
  {
   "cell_type": "code",
   "execution_count": 15,
   "id": "1810d549",
   "metadata": {},
   "outputs": [
    {
     "name": "stdout",
     "output_type": "stream",
     "text": [
      "Accuracy: 0.873\n"
     ]
    }
   ],
   "source": [
    "# Feature Scaling\n",
    "from sklearn.preprocessing import StandardScaler\n",
    "\n",
    "sc = StandardScaler()\n",
    "sc.fit(X_train)\n",
    "X_train_std = sc.transform(X_train)\n",
    "X_test_std = sc.transform(X_test)\n",
    " \n",
    "# Training a SVM classifier using SVC class\n",
    "svm = SVC(kernel= 'rbf', random_state=45, C=1)\n",
    "svm.fit(X_train_std, y_train)\n",
    " \n",
    "# Mode performance\n",
    " \n",
    "y_pred1 = svm.predict(X_test_std)\n",
    "print('Accuracy: %.3f' % accuracy_score(y_test, y_pred1))\n"
   ]
  },
  {
   "cell_type": "markdown",
   "id": "d3d75738",
   "metadata": {},
   "source": [
    "# Select the optimal C"
   ]
  },
  {
   "cell_type": "code",
   "execution_count": 16,
   "id": "7fd5a1be",
   "metadata": {},
   "outputs": [
    {
     "data": {
      "text/plain": [
       "{'C': 1}"
      ]
     },
     "execution_count": 16,
     "metadata": {},
     "output_type": "execute_result"
    }
   ],
   "source": [
    "# Select the optimal C parameter by cross-validation\n",
    "tuned_parameters = [{'C': [0.001,0.01,0.1,0.2,0.3,0.4,0.5,1]}]\n",
    "clf = GridSearchCV(SVC(kernel='rbf'), tuned_parameters, cv=10, scoring='accuracy', return_train_score=True)\n",
    "clf.fit(X_train_std, y_train)\n",
    "#clf.cv_results_\n",
    "clf.best_params_"
   ]
  },
  {
   "cell_type": "markdown",
   "id": "5e57a855",
   "metadata": {},
   "source": [
    "# SVM classifier using SGDClassifier"
   ]
  },
  {
   "cell_type": "code",
   "execution_count": 17,
   "id": "aafc0018",
   "metadata": {},
   "outputs": [
    {
     "name": "stdout",
     "output_type": "stream",
     "text": [
      "SVM Accuracy: 0.859\n"
     ]
    }
   ],
   "source": [
    "from sklearn.linear_model import SGDClassifier\n",
    " \n",
    "# Instantiate SVM classifier using SGDClassifier\n",
    "svm1 = SGDClassifier(loss='hinge',random_state=45)\n",
    " \n",
    "# Fit the model\n",
    "svm1.fit(X_train_std, y_train)\n",
    " \n",
    "# Model Performance\n",
    "y_pred2 = svm1.predict(X_test_std)\n",
    "\n",
    "print('SVM Accuracy: %.3f' % accuracy_score(y_test, y_pred2))"
   ]
  },
  {
   "cell_type": "markdown",
   "id": "0882e736",
   "metadata": {},
   "source": [
    "# Adaboost classifer"
   ]
  },
  {
   "cell_type": "code",
   "execution_count": 18,
   "id": "c1f509c9",
   "metadata": {},
   "outputs": [
    {
     "name": "stdout",
     "output_type": "stream",
     "text": [
      "Adaboost Accuracy: 0.873\n"
     ]
    }
   ],
   "source": [
    "from sklearn.ensemble import AdaBoostClassifier\n",
    "# Create adaboost classifer object\n",
    "abc = AdaBoostClassifier(n_estimators=20,\n",
    "                         learning_rate=0.0001,random_state=45)\n",
    "# Train Adaboost Classifer\n",
    "model = abc.fit(X_train, y_train)\n",
    "\n",
    "#Predict the response for test dataset\n",
    "y_pred3 = model.predict(X_test)\n",
    "\n",
    "print('Adaboost Accuracy: %.3f' % accuracy_score(y_test, y_pred3))"
   ]
  },
  {
   "cell_type": "markdown",
   "id": "4e907ffb",
   "metadata": {},
   "source": [
    "# Adaboost using svc as base_estimator"
   ]
  },
  {
   "cell_type": "code",
   "execution_count": 19,
   "id": "65aa6050",
   "metadata": {},
   "outputs": [
    {
     "name": "stdout",
     "output_type": "stream",
     "text": [
      "Accuracy: 0.634\n"
     ]
    }
   ],
   "source": [
    "# Import Support Vector Classifier\n",
    "from sklearn.svm import SVC\n",
    "#Import scikit-learn metrics module for accuracy calculation\n",
    "from sklearn import metrics\n",
    "svc1=SVC(probability=True, kernel='linear',random_state=45)\n",
    "\n",
    "# Create adaboost classifer object\n",
    "abc1 =AdaBoostClassifier(n_estimators=20, base_estimator=svc1,learning_rate=1.3,random_state=45)\n",
    "\n",
    "# Train Adaboost Classifer\n",
    "model2 = abc1.fit(X_train, y_train)\n",
    "\n",
    "#Predict the response for test dataset\n",
    "y_pred4 = model2.predict(X_test)\n",
    "\n",
    "\n",
    "# Model Accuracy, how often is the classifier correct?\n",
    "print(\"Accuracy: %.3f\" % accuracy_score(y_test, y_pred4))"
   ]
  },
  {
   "cell_type": "markdown",
   "id": "3a55f988",
   "metadata": {},
   "source": [
    "# Random forest"
   ]
  },
  {
   "cell_type": "code",
   "execution_count": 20,
   "id": "08bca2fc",
   "metadata": {},
   "outputs": [
    {
     "name": "stdout",
     "output_type": "stream",
     "text": [
      "RF Accuracy: 0.901\n"
     ]
    }
   ],
   "source": [
    "from sklearn.datasets import make_classification\n",
    "from sklearn.ensemble import RandomForestClassifier\n",
    "\n",
    "from sklearn.ensemble import RandomForestClassifier\n",
    "rf_model = RandomForestClassifier(n_estimators=50, max_features=\"auto\", random_state=45)\n",
    "rf_model.fit(X_train, y_train)\n",
    "predictions = rf_model.predict(X_test)\n",
    "\n",
    "print(\"RF Accuracy: %.3f\" % accuracy_score(y_test, predictions))"
   ]
  },
  {
   "attachments": {},
   "cell_type": "markdown",
   "id": "76c5423c",
   "metadata": {},
   "source": [
    "# Oversampling"
   ]
  },
  {
   "cell_type": "code",
   "execution_count": 18,
   "id": "bd65a228",
   "metadata": {},
   "outputs": [],
   "source": [
    "from imblearn.over_sampling import RandomOverSampler\n",
    "from imblearn.under_sampling import RandomUnderSampler"
   ]
  },
  {
   "cell_type": "code",
   "execution_count": 19,
   "id": "8c39a95c",
   "metadata": {},
   "outputs": [],
   "source": [
    "ros = RandomOverSampler(random_state=45)\n",
    "ros.fit(X_train, y_train)\n",
    "X_resampled, y_resampled = ros.fit_resample(X_train, y_train)"
   ]
  },
  {
   "cell_type": "code",
   "execution_count": 26,
   "id": "eafbf83f",
   "metadata": {},
   "outputs": [
    {
     "name": "stdout",
     "output_type": "stream",
     "text": [
      "RF Accuracy: 0.944\n"
     ]
    }
   ],
   "source": [
    "#rf_model = RandomForestClassifier(n_estimators=50, max_features=\"auto\", random_state=44)\n",
    "rf_model.fit(X_resampled, y_resampled)\n",
    "predictions1 = rf_model.predict(X_test)\n",
    "\n",
    "#RF_acu= metrics.accuracy_score(y_test, predictions)\n",
    "#print(\"Accuracy:\",metrics.accuracy_score(y_test, predictions))\n",
    "print(\"RF Accuracy: %.3f\" % metrics.accuracy_score(y_test, predictions1))"
   ]
  }
 ],
 "metadata": {
  "kernelspec": {
   "display_name": "Python 3 (ipykernel)",
   "language": "python",
   "name": "python3"
  },
  "language_info": {
   "codemirror_mode": {
    "name": "ipython",
    "version": 3
   },
   "file_extension": ".py",
   "mimetype": "text/x-python",
   "name": "python",
   "nbconvert_exporter": "python",
   "pygments_lexer": "ipython3",
   "version": "3.9.12"
  }
 },
 "nbformat": 4,
 "nbformat_minor": 5
}
